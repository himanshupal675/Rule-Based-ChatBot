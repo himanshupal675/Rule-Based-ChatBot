{
 "cells": [
  {
   "cell_type": "code",
   "execution_count": 1,
   "id": "49fb6b92-6499-4fe3-88ad-d169c6feec71",
   "metadata": {},
   "outputs": [
    {
     "name": "stdout",
     "output_type": "stream",
     "text": [
      "Chatbot: Hello! How can I assist you? (Type 'bye' to exit)\n"
     ]
    },
    {
     "name": "stdin",
     "output_type": "stream",
     "text": [
      "You:  hi\n"
     ]
    },
    {
     "name": "stdout",
     "output_type": "stream",
     "text": [
      "Chatbot: Hello! How can I assist you?\n"
     ]
    },
    {
     "name": "stdin",
     "output_type": "stream",
     "text": [
      "You:  hello\n"
     ]
    },
    {
     "name": "stdout",
     "output_type": "stream",
     "text": [
      "Chatbot: Hello! How can I assist you?\n"
     ]
    },
    {
     "name": "stdin",
     "output_type": "stream",
     "text": [
      "You:  can you help me\n"
     ]
    },
    {
     "name": "stdout",
     "output_type": "stream",
     "text": [
      "Chatbot: I'm sorry, I don't understand that.\n"
     ]
    },
    {
     "name": "stdin",
     "output_type": "stream",
     "text": [
      "You:  how are you\n"
     ]
    },
    {
     "name": "stdout",
     "output_type": "stream",
     "text": [
      "Chatbot: I'm just a chatbot, but I'm here to help!\n"
     ]
    },
    {
     "name": "stdin",
     "output_type": "stream",
     "text": [
      "You:  bye\n"
     ]
    },
    {
     "name": "stdout",
     "output_type": "stream",
     "text": [
      "Chatbot: Goodbye! Have a great day!\n"
     ]
    }
   ],
   "source": [
    "import re\n",
    "\n",
    "# Define the predefined rules and responses\n",
    "rules = {\n",
    "    r\"(?:hello|hi|hey)\": \"Hello! How can I assist you?\",\n",
    "    r\"how are you\": \"I'm just a chatbot, but I'm here to help!\",\n",
    "    r\"(?:what is|tell me about) (.+)\": \"Sorry, I don't have information on %s.\",\n",
    "    r\"bye|goodbye\": \"Goodbye! Have a great day!\",\n",
    "}\n",
    "\n",
    "# Function to process user input and provide a response\n",
    "def respond(user_input):\n",
    "    for pattern, response in rules.items():\n",
    "        match = re.match(pattern, user_input, re.IGNORECASE)\n",
    "        if match:\n",
    "            if \"%s\" in response:\n",
    "                return response % match.group(1)\n",
    "            else:\n",
    "                return response\n",
    "    return \"I'm sorry, I don't understand that.\"\n",
    "\n",
    "# Main loop for interacting with the chatbot\n",
    "print(\"Chatbot: Hello! How can I assist you? (Type 'bye' to exit)\")\n",
    "while True:\n",
    "    user_input = input(\"You: \")\n",
    "    if user_input.lower() == \"bye\":\n",
    "        print(\"Chatbot: Goodbye! Have a great day!\")\n",
    "        break\n",
    "    response = respond(user_input)\n",
    "    print(\"Chatbot:\", response)\n"
   ]
  },
  {
   "cell_type": "code",
   "execution_count": null,
   "id": "4eceddf5-f6d5-4f1e-a1b5-b1c4b10a9380",
   "metadata": {},
   "outputs": [],
   "source": []
  }
 ],
 "metadata": {
  "kernelspec": {
   "display_name": "Python 3 (ipykernel)",
   "language": "python",
   "name": "python3"
  },
  "language_info": {
   "codemirror_mode": {
    "name": "ipython",
    "version": 3
   },
   "file_extension": ".py",
   "mimetype": "text/x-python",
   "name": "python",
   "nbconvert_exporter": "python",
   "pygments_lexer": "ipython3",
   "version": "3.10.9"
  }
 },
 "nbformat": 4,
 "nbformat_minor": 5
}
